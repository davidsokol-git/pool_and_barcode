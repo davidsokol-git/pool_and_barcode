{
 "cells": [
  {
   "cell_type": "code",
   "execution_count": 17,
   "metadata": {},
   "outputs": [],
   "source": [
    "import pandas as pd"
   ]
  },
  {
   "cell_type": "code",
   "execution_count": 18,
   "metadata": {},
   "outputs": [],
   "source": [
    " # CHANGEME: point file path to the csv file obtained from Illumina's pooling calculator\n",
    "input = \"~/Documents/code/git_hub/pool_and_barcode/example/illumina_calc_results_example.csv\""
   ]
  },
  {
   "cell_type": "code",
   "execution_count": 19,
   "metadata": {},
   "outputs": [],
   "source": [
    " # CHANGEME: point file path to the directory containing experimental data\n",
    "output = \"~/Documents/code/git_hub/pool_and_barcode/example/barcode_csv_example.csv\""
   ]
  },
  {
   "cell_type": "code",
   "execution_count": 20,
   "metadata": {},
   "outputs": [],
   "source": [
    "pool_calc_df = pd.read_csv(input, header = 24)\n",
    "pool_calc_df.rename(columns = {\"Unnamed: 0\": \"well\"}, inplace = True)\n",
    "pool_calc_df = pool_calc_df[2:-2]"
   ]
  },
  {
   "cell_type": "code",
   "execution_count": 21,
   "metadata": {},
   "outputs": [],
   "source": [
    "barcode_df = \"~/Documents/code/git_hub/pool_and_barcode/scwgbs_barcode_v4.csv\"\n",
    "barcode_df = pd.read_csv(barcode_df)"
   ]
  },
  {
   "cell_type": "code",
   "execution_count": 22,
   "metadata": {},
   "outputs": [],
   "source": [
    "pool_barcode_df = pd.merge(pool_calc_df, barcode_df, on = \"well\")"
   ]
  },
  {
   "cell_type": "code",
   "execution_count": 23,
   "metadata": {},
   "outputs": [],
   "source": [
    "data = [pool_barcode_df[\"well\"], pool_barcode_df[\"name\"], pool_barcode_df[\"barcode_1\"], pool_barcode_df[\"barcode_2\"]]\n",
    "headers = [\"sample\", \"barcode_name\", \"barcode_1\", \"barcode_2\"]\n",
    "barcode_csv = pd.concat(data, axis=1, keys=headers)\n",
    "barcode_csv.to_csv(output, index=False)"
   ]
  }
 ],
 "metadata": {
  "kernelspec": {
   "display_name": "Python 3.8.8 ('base')",
   "language": "python",
   "name": "python3"
  },
  "language_info": {
   "codemirror_mode": {
    "name": "ipython",
    "version": 3
   },
   "file_extension": ".py",
   "mimetype": "text/x-python",
   "name": "python",
   "nbconvert_exporter": "python",
   "pygments_lexer": "ipython3",
   "version": "3.8.8"
  },
  "orig_nbformat": 4,
  "vscode": {
   "interpreter": {
    "hash": "4b1d709454758155bdbdfdae4f21284fdbfe3f291544079d2527636be25f1e41"
   }
  }
 },
 "nbformat": 4,
 "nbformat_minor": 2
}
