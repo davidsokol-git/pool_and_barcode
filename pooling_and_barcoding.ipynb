{
 "cells": [
  {
   "cell_type": "code",
   "execution_count": 1,
   "metadata": {},
   "outputs": [],
   "source": [
    "import pandas as pd"
   ]
  },
  {
   "cell_type": "code",
   "execution_count": 3,
   "metadata": {
    "tags": []
   },
   "outputs": [],
   "source": [
    "# CHANGE ME: point pooling_data to the csv file obtained from Illumina's pooling calculator\n",
    "\n",
    "pooling_data = \"\"\n",
    "pooling_data_df = pd.read_csv(pooling_data, header = 24)\n",
    "\n",
    "pooling_data_df = pooling_data_df[0:1] # CHANGE ME: have to cut the correct amount of data off of the csv file\n",
    "\n",
    "pooling_data_df.rename(columns = {\"Unnamed: 0\": \"well\"}, inplace = True)"
   ]
  },
  {
   "cell_type": "code",
   "execution_count": 5,
   "metadata": {},
   "outputs": [],
   "source": [
    "barcode_df = pd.read_csv(\"~/Documents/code/git_hub/pool_and_barcode/scwgbs_barcode_v4.csv\")"
   ]
  },
  {
   "cell_type": "code",
   "execution_count": 6,
   "metadata": {
    "tags": []
   },
   "outputs": [],
   "source": [
    "pool_barcode_df = pd.merge(pooling_data_df, barcode_df, on = \"well\")\n",
    "pool_barcode_df[\"well_for_submission\"] = pool_barcode_df[\"well\"]"
   ]
  },
  {
   "cell_type": "code",
   "execution_count": 7,
   "metadata": {},
   "outputs": [],
   "source": [
    "# CHANGE ME: point pool_barcode_df to the experiment's directory\n",
    "\n",
    "pool_barcode_df.to_csv(r\"\", index = False)"
   ]
  }
 ],
 "metadata": {
  "kernelspec": {
   "display_name": "Python 3.8.8 ('base')",
   "language": "python",
   "name": "python3"
  },
  "language_info": {
   "codemirror_mode": {
    "name": "ipython",
    "version": 3
   },
   "file_extension": ".py",
   "mimetype": "text/x-python",
   "name": "python",
   "nbconvert_exporter": "python",
   "pygments_lexer": "ipython3",
   "version": "3.8.8"
  },
  "orig_nbformat": 2,
  "vscode": {
   "interpreter": {
    "hash": "4b1d709454758155bdbdfdae4f21284fdbfe3f291544079d2527636be25f1e41"
   }
  }
 },
 "nbformat": 4,
 "nbformat_minor": 2
}
