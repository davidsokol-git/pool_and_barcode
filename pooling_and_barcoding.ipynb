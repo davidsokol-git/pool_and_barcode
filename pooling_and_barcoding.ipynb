{
 "cells": [
  {
   "cell_type": "code",
   "execution_count": 1,
   "metadata": {},
   "outputs": [],
   "source": [
    "import pandas as pd"
   ]
  },
  {
   "cell_type": "code",
   "execution_count": 3,
   "metadata": {
    "tags": []
   },
   "outputs": [],
   "source": [
    " # CHANGEME: point file path to the csv file obtained from Illumina's pooling calculator\n",
    "\n",
    "input = \"\""
   ]
  },
  {
   "cell_type": "code",
   "execution_count": null,
   "metadata": {},
   "outputs": [],
   "source": [
    " # CHANGEME: point file path to the directory containing experimental data\n",
    "\n",
    "output = \"\""
   ]
  },
  {
   "cell_type": "code",
   "execution_count": 6,
   "metadata": {
    "tags": []
   },
   "outputs": [],
   "source": [
    "pool_calc_df = pd.read_csv(input, header = 24)\n",
    "\n",
    "pool_calc_df.rename(columns = {\"Unnamed: 0\": \"well\"}, inplace = True)\n",
    "\n",
    "pool_calc_df = pool_calc_df[2:-2]\n",
    "\n",
    "pool_calc_df"
   ]
  },
  {
   "cell_type": "code",
   "execution_count": 7,
   "metadata": {},
   "outputs": [],
   "source": [
    "barcode_df = \"~/Documents/code/git_hub/pool_and_barcode/scwgbs_barcode_v4.csv\"\n",
    "\n",
    "barcode_df = pd.read_csv(barcode_df)\n",
    "\n",
    "barcode_df"
   ]
  },
  {
   "cell_type": "code",
   "execution_count": null,
   "metadata": {},
   "outputs": [],
   "source": [
    "pool_barcode_df = pd.merge(pool_calc_df, barcode_df, on = \"well\")\n",
    "\n",
    "pool_barcode_df"
   ]
  },
  {
   "cell_type": "code",
   "execution_count": null,
   "metadata": {},
   "outputs": [],
   "source": [
    "data = [pool_barcode_df[\"well\"], pool_barcode_df[\"name\"], pool_barcode_df[\"barcode_1\"], pool_barcode_df[\"barcode_2\"]]\n",
    "\n",
    "headers = [\"sample\", \"barcode_name\", \"barcode_1\", \"barcode_2\"]\n",
    "\n",
    "barcode_csv = pd.concat(data, axis=1, keys=headers)\n",
    "\n",
    "barcode_csv"
   ]
  },
  {
   "cell_type": "code",
   "execution_count": null,
   "metadata": {},
   "outputs": [],
   "source": [
    "barcode_csv.to_csv(output, index=False)"
   ]
  }
 ],
 "metadata": {
  "kernelspec": {
   "display_name": "Python 3.8.8 ('base')",
   "language": "python",
   "name": "python3"
  },
  "language_info": {
   "codemirror_mode": {
    "name": "ipython",
    "version": 3
   },
   "file_extension": ".py",
   "mimetype": "text/x-python",
   "name": "python",
   "nbconvert_exporter": "python",
   "pygments_lexer": "ipython3",
   "version": "3.8.8"
  },
  "orig_nbformat": 2,
  "vscode": {
   "interpreter": {
    "hash": "4b1d709454758155bdbdfdae4f21284fdbfe3f291544079d2527636be25f1e41"
   }
  }
 },
 "nbformat": 4,
 "nbformat_minor": 2
}
